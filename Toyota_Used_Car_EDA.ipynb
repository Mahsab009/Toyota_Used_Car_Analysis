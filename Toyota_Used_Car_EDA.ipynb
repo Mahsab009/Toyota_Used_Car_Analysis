{
 "cells": [
  {
   "cell_type": "markdown",
   "id": "ba938ef3",
   "metadata": {},
   "source": [
    "# Toyota Used Car Exploratory Data Analysis\n",
    "\n",
    "The aim of this notebook is to perform exploratory data analysis on the dataset of used toyota cars.\n",
    "\n",
    "Exploratory Data Analysis Steps:\n",
    "\n",
    "1. Reading the data using Pandas DataFrame\n",
    "2. Checking the data types and looking for missing values\n",
    "3. Checking the basic statistics of the numerical variables\n",
    "4. Checking the unique values of the categorical features\n",
    "5. Visualizing the data using Seaborn and Matplot\n"
   ]
  },
  {
   "cell_type": "markdown",
   "id": "22ad8179",
   "metadata": {},
   "source": [
    "### Import required libraries and packages"
   ]
  },
  {
   "cell_type": "code",
   "execution_count": 48,
   "id": "adc43f87",
   "metadata": {},
   "outputs": [],
   "source": [
    "#For_Data_Analysis\n",
    "import numpy as np\n",
    "import pandas as pd\n",
    "\n",
    "#for data visualization\n",
    "import matplotlib.pyplot as plt\n",
    "import seaborn as sns"
   ]
  },
  {
   "cell_type": "markdown",
   "id": "db429908",
   "metadata": {},
   "source": [
    "### Read the CSV file using Pandas dataframe"
   ]
  },
  {
   "cell_type": "code",
   "execution_count": 49,
   "id": "1a8edc25",
   "metadata": {},
   "outputs": [
    {
     "name": "stdout",
     "output_type": "stream",
     "text": [
      "<class 'pandas.core.frame.DataFrame'>\n"
     ]
    },
    {
     "data": {
      "text/html": [
       "<div>\n",
       "<style scoped>\n",
       "    .dataframe tbody tr th:only-of-type {\n",
       "        vertical-align: middle;\n",
       "    }\n",
       "\n",
       "    .dataframe tbody tr th {\n",
       "        vertical-align: top;\n",
       "    }\n",
       "\n",
       "    .dataframe thead th {\n",
       "        text-align: right;\n",
       "    }\n",
       "</style>\n",
       "<table border=\"1\" class=\"dataframe\">\n",
       "  <thead>\n",
       "    <tr style=\"text-align: right;\">\n",
       "      <th></th>\n",
       "      <th>model</th>\n",
       "      <th>year</th>\n",
       "      <th>price</th>\n",
       "      <th>transmission</th>\n",
       "      <th>mileage</th>\n",
       "      <th>fuelType</th>\n",
       "      <th>mpg</th>\n",
       "      <th>engineSize</th>\n",
       "    </tr>\n",
       "  </thead>\n",
       "  <tbody>\n",
       "    <tr>\n",
       "      <th>0</th>\n",
       "      <td>GT86</td>\n",
       "      <td>2016</td>\n",
       "      <td>16000</td>\n",
       "      <td>Manual</td>\n",
       "      <td>24089</td>\n",
       "      <td>Petrol</td>\n",
       "      <td>36.2</td>\n",
       "      <td>2.0</td>\n",
       "    </tr>\n",
       "    <tr>\n",
       "      <th>1</th>\n",
       "      <td>GT86</td>\n",
       "      <td>2017</td>\n",
       "      <td>15995</td>\n",
       "      <td>Manual</td>\n",
       "      <td>18615</td>\n",
       "      <td>Petrol</td>\n",
       "      <td>36.2</td>\n",
       "      <td>2.0</td>\n",
       "    </tr>\n",
       "    <tr>\n",
       "      <th>2</th>\n",
       "      <td>GT86</td>\n",
       "      <td>2015</td>\n",
       "      <td>13998</td>\n",
       "      <td>Manual</td>\n",
       "      <td>27469</td>\n",
       "      <td>Petrol</td>\n",
       "      <td>36.2</td>\n",
       "      <td>2.0</td>\n",
       "    </tr>\n",
       "    <tr>\n",
       "      <th>3</th>\n",
       "      <td>GT86</td>\n",
       "      <td>2017</td>\n",
       "      <td>18998</td>\n",
       "      <td>Manual</td>\n",
       "      <td>14736</td>\n",
       "      <td>Petrol</td>\n",
       "      <td>36.2</td>\n",
       "      <td>2.0</td>\n",
       "    </tr>\n",
       "    <tr>\n",
       "      <th>4</th>\n",
       "      <td>GT86</td>\n",
       "      <td>2017</td>\n",
       "      <td>17498</td>\n",
       "      <td>Manual</td>\n",
       "      <td>36284</td>\n",
       "      <td>Petrol</td>\n",
       "      <td>36.2</td>\n",
       "      <td>2.0</td>\n",
       "    </tr>\n",
       "  </tbody>\n",
       "</table>\n",
       "</div>"
      ],
      "text/plain": [
       "   model  year  price transmission  mileage fuelType   mpg  engineSize\n",
       "0   GT86  2016  16000       Manual    24089   Petrol  36.2         2.0\n",
       "1   GT86  2017  15995       Manual    18615   Petrol  36.2         2.0\n",
       "2   GT86  2015  13998       Manual    27469   Petrol  36.2         2.0\n",
       "3   GT86  2017  18998       Manual    14736   Petrol  36.2         2.0\n",
       "4   GT86  2017  17498       Manual    36284   Petrol  36.2         2.0"
      ]
     },
     "metadata": {},
     "output_type": "display_data"
    },
    {
     "data": {
      "text/html": [
       "<div>\n",
       "<style scoped>\n",
       "    .dataframe tbody tr th:only-of-type {\n",
       "        vertical-align: middle;\n",
       "    }\n",
       "\n",
       "    .dataframe tbody tr th {\n",
       "        vertical-align: top;\n",
       "    }\n",
       "\n",
       "    .dataframe thead th {\n",
       "        text-align: right;\n",
       "    }\n",
       "</style>\n",
       "<table border=\"1\" class=\"dataframe\">\n",
       "  <thead>\n",
       "    <tr style=\"text-align: right;\">\n",
       "      <th></th>\n",
       "      <th>model</th>\n",
       "      <th>year</th>\n",
       "      <th>price</th>\n",
       "      <th>transmission</th>\n",
       "      <th>mileage</th>\n",
       "      <th>fuelType</th>\n",
       "      <th>mpg</th>\n",
       "      <th>engineSize</th>\n",
       "    </tr>\n",
       "  </thead>\n",
       "  <tbody>\n",
       "    <tr>\n",
       "      <th>6733</th>\n",
       "      <td>IQ</td>\n",
       "      <td>2011</td>\n",
       "      <td>5500</td>\n",
       "      <td>Automatic</td>\n",
       "      <td>30000</td>\n",
       "      <td>Petrol</td>\n",
       "      <td>58.9</td>\n",
       "      <td>1.0</td>\n",
       "    </tr>\n",
       "    <tr>\n",
       "      <th>6734</th>\n",
       "      <td>Urban Cruiser</td>\n",
       "      <td>2011</td>\n",
       "      <td>4985</td>\n",
       "      <td>Manual</td>\n",
       "      <td>36154</td>\n",
       "      <td>Petrol</td>\n",
       "      <td>50.4</td>\n",
       "      <td>1.3</td>\n",
       "    </tr>\n",
       "    <tr>\n",
       "      <th>6735</th>\n",
       "      <td>Urban Cruiser</td>\n",
       "      <td>2012</td>\n",
       "      <td>4995</td>\n",
       "      <td>Manual</td>\n",
       "      <td>46000</td>\n",
       "      <td>Diesel</td>\n",
       "      <td>57.6</td>\n",
       "      <td>1.4</td>\n",
       "    </tr>\n",
       "    <tr>\n",
       "      <th>6736</th>\n",
       "      <td>Urban Cruiser</td>\n",
       "      <td>2011</td>\n",
       "      <td>3995</td>\n",
       "      <td>Manual</td>\n",
       "      <td>60700</td>\n",
       "      <td>Petrol</td>\n",
       "      <td>50.4</td>\n",
       "      <td>1.3</td>\n",
       "    </tr>\n",
       "    <tr>\n",
       "      <th>6737</th>\n",
       "      <td>Urban Cruiser</td>\n",
       "      <td>2011</td>\n",
       "      <td>4495</td>\n",
       "      <td>Manual</td>\n",
       "      <td>45128</td>\n",
       "      <td>Petrol</td>\n",
       "      <td>50.4</td>\n",
       "      <td>1.3</td>\n",
       "    </tr>\n",
       "  </tbody>\n",
       "</table>\n",
       "</div>"
      ],
      "text/plain": [
       "               model  year  price transmission  mileage fuelType   mpg  \\\n",
       "6733              IQ  2011   5500    Automatic    30000   Petrol  58.9   \n",
       "6734   Urban Cruiser  2011   4985       Manual    36154   Petrol  50.4   \n",
       "6735   Urban Cruiser  2012   4995       Manual    46000   Diesel  57.6   \n",
       "6736   Urban Cruiser  2011   3995       Manual    60700   Petrol  50.4   \n",
       "6737   Urban Cruiser  2011   4495       Manual    45128   Petrol  50.4   \n",
       "\n",
       "      engineSize  \n",
       "6733         1.0  \n",
       "6734         1.3  \n",
       "6735         1.4  \n",
       "6736         1.3  \n",
       "6737         1.3  "
      ]
     },
     "metadata": {},
     "output_type": "display_data"
    }
   ],
   "source": [
    "df = pd.read_csv('toyota.csv')\n",
    "\n",
    "print (type(df))\n",
    "display(df.head())\n",
    "display(df.tail())"
   ]
  },
  {
   "cell_type": "markdown",
   "id": "2404e291",
   "metadata": {},
   "source": [
    "### Check for data types and any missing values"
   ]
  },
  {
   "cell_type": "code",
   "execution_count": 50,
   "id": "cd91bbed",
   "metadata": {
    "scrolled": true
   },
   "outputs": [
    {
     "name": "stdout",
     "output_type": "stream",
     "text": [
      "<class 'pandas.core.frame.DataFrame'>\n",
      "RangeIndex: 6738 entries, 0 to 6737\n",
      "Data columns (total 8 columns):\n",
      " #   Column        Non-Null Count  Dtype  \n",
      "---  ------        --------------  -----  \n",
      " 0   model         6738 non-null   object \n",
      " 1   year          6738 non-null   int64  \n",
      " 2   price         6738 non-null   int64  \n",
      " 3   transmission  6738 non-null   object \n",
      " 4   mileage       6738 non-null   int64  \n",
      " 5   fuelType      6738 non-null   object \n",
      " 6   mpg           6738 non-null   float64\n",
      " 7   engineSize    6738 non-null   float64\n",
      "dtypes: float64(2), int64(3), object(3)\n",
      "memory usage: 421.2+ KB\n"
     ]
    }
   ],
   "source": [
    "df.info()"
   ]
  },
  {
   "cell_type": "code",
   "execution_count": 51,
   "id": "5596756c",
   "metadata": {},
   "outputs": [
    {
     "name": "stdout",
     "output_type": "stream",
     "text": [
      "(6738, 8)\n",
      "number of rows =  6738\n",
      "number of columns =  8\n"
     ]
    }
   ],
   "source": [
    "print(df.shape)\n",
    "\n",
    "print(\"number of rows = \", df.shape[0])\n",
    "print(\"number of columns = \", df.shape[1])"
   ]
  },
  {
   "cell_type": "markdown",
   "id": "9785a451",
   "metadata": {},
   "source": [
    "### Finding out the number of unique values for each 'year'"
   ]
  },
  {
   "cell_type": "code",
   "execution_count": 52,
   "id": "b7feec93",
   "metadata": {},
   "outputs": [
    {
     "name": "stdout",
     "output_type": "stream",
     "text": [
      "[2016 2017 2015 2020 2013 2019 2018 2014 2012 2005 2003 2004 2001 2008\n",
      " 2007 2010 2011 2006 2009 2002 1999 2000 1998]\n",
      "<class 'numpy.ndarray'>\n",
      "23\n",
      "2017    2019\n",
      "2019    1286\n",
      "2018    1015\n",
      "2016     997\n",
      "2015     525\n",
      "2014     352\n",
      "2013     204\n",
      "2020     128\n",
      "2012      42\n",
      "2011      40\n",
      "2009      29\n",
      "2007      20\n",
      "2008      19\n",
      "2010      18\n",
      "2005      12\n",
      "2006      11\n",
      "2004       7\n",
      "2003       6\n",
      "2002       4\n",
      "2001       1\n",
      "1999       1\n",
      "2000       1\n",
      "1998       1\n",
      "Name: year, dtype: int64\n"
     ]
    }
   ],
   "source": [
    "print(df[\"year\"].unique())\n",
    "print(type (df[\"year\"].unique()))\n",
    "print(len (df[\"year\"].unique()))\n",
    "print(df[\"year\"].value_counts())"
   ]
  },
  {
   "cell_type": "markdown",
   "id": "a149e856",
   "metadata": {},
   "source": [
    "### Finding out the number of unique values for each 'model'"
   ]
  },
  {
   "cell_type": "code",
   "execution_count": 53,
   "id": "e05721f0",
   "metadata": {
    "scrolled": true
   },
   "outputs": [
    {
     "name": "stdout",
     "output_type": "stream",
     "text": [
      " Yaris            2122\n",
      " Aygo             1961\n",
      " Auris             712\n",
      " C-HR              479\n",
      " RAV4              473\n",
      " Corolla           267\n",
      " Prius             232\n",
      " Avensis           115\n",
      " Verso             114\n",
      " Hilux              86\n",
      " GT86               73\n",
      " Land Cruiser       51\n",
      " PROACE VERSO       15\n",
      " Supra              12\n",
      " Camry              11\n",
      " IQ                  8\n",
      " Urban Cruiser       4\n",
      " Verso-S             3\n",
      "Name: model, dtype: int64\n"
     ]
    }
   ],
   "source": [
    "print(df[\"model\"].value_counts())"
   ]
  },
  {
   "cell_type": "markdown",
   "id": "341f9304",
   "metadata": {},
   "source": [
    "### Finding out the number of unique values for each 'Transmission' type"
   ]
  },
  {
   "cell_type": "code",
   "execution_count": 54,
   "id": "95753e22",
   "metadata": {
    "scrolled": true
   },
   "outputs": [
    {
     "name": "stdout",
     "output_type": "stream",
     "text": [
      "Manual       3826\n",
      "Automatic    2657\n",
      "Semi-Auto     254\n",
      "Other           1\n",
      "Name: transmission, dtype: int64\n"
     ]
    }
   ],
   "source": [
    "print(df[\"transmission\"].value_counts())"
   ]
  },
  {
   "cell_type": "markdown",
   "id": "bef695a6",
   "metadata": {},
   "source": [
    "### Finding out the number of unique values for each 'fuelType'"
   ]
  },
  {
   "cell_type": "code",
   "execution_count": 55,
   "id": "87c9e4ae",
   "metadata": {
    "scrolled": true
   },
   "outputs": [
    {
     "name": "stdout",
     "output_type": "stream",
     "text": [
      "Petrol    4087\n",
      "Hybrid    2043\n",
      "Diesel     503\n",
      "Other      105\n",
      "Name: fuelType, dtype: int64\n"
     ]
    }
   ],
   "source": [
    "print(df[\"fuelType\"].value_counts())"
   ]
  },
  {
   "cell_type": "markdown",
   "id": "8b5eafb6",
   "metadata": {},
   "source": [
    "### Pie Chart (Transmission)"
   ]
  },
  {
   "cell_type": "code",
   "execution_count": 56,
   "id": "1b03b903",
   "metadata": {
    "scrolled": false
   },
   "outputs": [
    {
     "data": {
      "image/png": "[encoded data removed]",
      "text/plain": [
       "<Figure size 432x288 with 1 Axes>"
      ]
     },
     "metadata": {},
     "output_type": "display_data"
    }
   ],
   "source": [
    "df[\"transmission\"].value_counts().plot(kind=\"pie\" , autopct='%1.1f%%', startangle=0)\n",
    "plt.ylabel(\" \")\n",
    "plt.title(\"Percentages of Cars Present for Each Transmission Type\")\n",
    "plt.show()"
   ]
  },
  {
   "cell_type": "markdown",
   "id": "bb32381d",
   "metadata": {},
   "source": [
    "### Pie Chart (fuelType)"
   ]
  },
  {
   "cell_type": "code",
   "execution_count": 57,
   "id": "2b288c4a",
   "metadata": {
    "scrolled": true
   },
   "outputs": [
    {
     "data": {
      "image/png": "[encoded data removed]",
      "text/plain": [
       "<Figure size 432x288 with 1 Axes>"
      ]
     },
     "metadata": {},
     "output_type": "display_data"
    }
   ],
   "source": [
    "df[\"fuelType\"].value_counts().plot(kind=\"pie\" , autopct='%1.1f%%', startangle=0)\n",
    "plt.ylabel(\" \")\n",
    "plt.title(\"Percentages of Cars Present for Each Fuel Type\")\n",
    "plt.show()"
   ]
  },
  {
   "cell_type": "markdown",
   "id": "e4eb258e",
   "metadata": {},
   "source": [
    "### Finding out the number of unique values for 'fuelType'"
   ]
  },
  {
   "cell_type": "code",
   "execution_count": 58,
   "id": "4811770b",
   "metadata": {
    "scrolled": true
   },
   "outputs": [
    {
     "name": "stdout",
     "output_type": "stream",
     "text": [
      "Petrol    4087\n",
      "Hybrid    2043\n",
      "Diesel     503\n",
      "Other      105\n",
      "Name: fuelType, dtype: int64\n",
      "<class 'pandas.core.series.Series'>\n"
     ]
    },
    {
     "data": {
      "text/html": [
       "<div>\n",
       "<style scoped>\n",
       "    .dataframe tbody tr th:only-of-type {\n",
       "        vertical-align: middle;\n",
       "    }\n",
       "\n",
       "    .dataframe tbody tr th {\n",
       "        vertical-align: top;\n",
       "    }\n",
       "\n",
       "    .dataframe thead th {\n",
       "        text-align: right;\n",
       "    }\n",
       "</style>\n",
       "<table border=\"1\" class=\"dataframe\">\n",
       "  <thead>\n",
       "    <tr style=\"text-align: right;\">\n",
       "      <th></th>\n",
       "      <th>fuelType</th>\n",
       "    </tr>\n",
       "  </thead>\n",
       "  <tbody>\n",
       "    <tr>\n",
       "      <th>Petrol</th>\n",
       "      <td>4087</td>\n",
       "    </tr>\n",
       "    <tr>\n",
       "      <th>Hybrid</th>\n",
       "      <td>2043</td>\n",
       "    </tr>\n",
       "    <tr>\n",
       "      <th>Diesel</th>\n",
       "      <td>503</td>\n",
       "    </tr>\n",
       "    <tr>\n",
       "      <th>Other</th>\n",
       "      <td>105</td>\n",
       "    </tr>\n",
       "  </tbody>\n",
       "</table>\n",
       "</div>"
      ],
      "text/plain": [
       "        fuelType\n",
       "Petrol      4087\n",
       "Hybrid      2043\n",
       "Diesel       503\n",
       "Other        105"
      ]
     },
     "metadata": {},
     "output_type": "display_data"
    },
    {
     "name": "stdout",
     "output_type": "stream",
     "text": [
      "Index(['Petrol', 'Hybrid', 'Diesel', 'Other'], dtype='object')\n",
      "Index(['fuelType'], dtype='object')\n"
     ]
    }
   ],
   "source": [
    "print(df[\"fuelType\"].value_counts())\n",
    "print(type(df[\"fuelType\"].value_counts()))\n",
    "\n",
    "df_fuelType = pd.DataFrame(df[\"fuelType\"].value_counts())\n",
    "display(df_fuelType.head())\n",
    "print(df_fuelType.index)\n",
    "print(df_fuelType.columns)"
   ]
  },
  {
   "cell_type": "markdown",
   "id": "ea1b4af5",
   "metadata": {},
   "source": [
    "### Calculating the '% of cars' column (1)"
   ]
  },
  {
   "cell_type": "code",
   "execution_count": 59,
   "id": "caca459a",
   "metadata": {
    "scrolled": true
   },
   "outputs": [
    {
     "data": {
      "text/html": [
       "<div>\n",
       "<style scoped>\n",
       "    .dataframe tbody tr th:only-of-type {\n",
       "        vertical-align: middle;\n",
       "    }\n",
       "\n",
       "    .dataframe tbody tr th {\n",
       "        vertical-align: top;\n",
       "    }\n",
       "\n",
       "    .dataframe thead th {\n",
       "        text-align: right;\n",
       "    }\n",
       "</style>\n",
       "<table border=\"1\" class=\"dataframe\">\n",
       "  <thead>\n",
       "    <tr style=\"text-align: right;\">\n",
       "      <th></th>\n",
       "      <th>fuelType</th>\n",
       "      <th>no_of_cars</th>\n",
       "      <th>% of cars</th>\n",
       "    </tr>\n",
       "  </thead>\n",
       "  <tbody>\n",
       "    <tr>\n",
       "      <th>0</th>\n",
       "      <td>Petrol</td>\n",
       "      <td>4087</td>\n",
       "      <td>60.66</td>\n",
       "    </tr>\n",
       "    <tr>\n",
       "      <th>1</th>\n",
       "      <td>Hybrid</td>\n",
       "      <td>2043</td>\n",
       "      <td>30.32</td>\n",
       "    </tr>\n",
       "    <tr>\n",
       "      <th>2</th>\n",
       "      <td>Diesel</td>\n",
       "      <td>503</td>\n",
       "      <td>7.47</td>\n",
       "    </tr>\n",
       "    <tr>\n",
       "      <th>3</th>\n",
       "      <td>Other</td>\n",
       "      <td>105</td>\n",
       "      <td>1.56</td>\n",
       "    </tr>\n",
       "  </tbody>\n",
       "</table>\n",
       "</div>"
      ],
      "text/plain": [
       "  fuelType  no_of_cars  % of cars\n",
       "0   Petrol        4087      60.66\n",
       "1   Hybrid        2043      30.32\n",
       "2   Diesel         503       7.47\n",
       "3    Other         105       1.56"
      ]
     },
     "metadata": {},
     "output_type": "display_data"
    }
   ],
   "source": [
    "df_fuelType = df_fuelType.reset_index()\n",
    "df_fuelType = df_fuelType.rename(columns={\"index\":\"fuelType\",\"fuelType\":\"no_of_cars\"})\n",
    "\n",
    "#df_fuelType[\"% of cars\"] = (df_fuelType[\"no_of_cars\"]/df.shape[0])\n",
    "df_fuelType[\"% of cars\"] = (df_fuelType[\"no_of_cars\"]/df.shape[0])*100\n",
    "\n",
    "df_fuelType = df_fuelType.round(2)\n",
    "\n",
    "display(df_fuelType)"
   ]
  },
  {
   "cell_type": "markdown",
   "id": "c3bbc138",
   "metadata": {},
   "source": [
    "### Bar Plot (fuelType)"
   ]
  },
  {
   "cell_type": "code",
   "execution_count": 60,
   "id": "9d321c05",
   "metadata": {
    "scrolled": true
   },
   "outputs": [
    {
     "data": {
      "image/png": "[encoded data removed]",
      "text/plain": [
       "<Figure size 432x288 with 1 Axes>"
      ]
     },
     "metadata": {
      "needs_background": "light"
     },
     "output_type": "display_data"
    }
   ],
   "source": [
    "barplot_fuelType = sns.barplot(x=\"fuelType\", y=\"% of cars\", data=df_fuelType, color=\"green\", alpha=0.5)\n",
    "\n",
    "for p in barplot_fuelType.patches:\n",
    "    barplot_fuelType.annotate(format(p.get_height(), '.1f'), \n",
    "                   (p.get_x() + p.get_width() / 2., p.get_height()), \n",
    "                   ha = 'center', va = 'center', \n",
    "                   xytext = (0, 9), \n",
    "                   textcoords = 'offset points')\n",
    "\n",
    "plt.xlabel(\"Types of Fuel\", size=12)\n",
    "plt.ylabel(\"% of Cars\", size=12)\n",
    "plt.title(\"Percentages of Cars Present for Each Fuel Type\")\n",
    "plt.yticks(np.arange(0,101,10))\n",
    "\n",
    "plt.show()"
   ]
  },
  {
   "cell_type": "markdown",
   "id": "05e4a96c",
   "metadata": {},
   "source": [
    "### Calculating the '% of cars' column (2)"
   ]
  },
  {
   "cell_type": "code",
   "execution_count": 61,
   "id": "ab9f9ed0",
   "metadata": {
    "scrolled": true
   },
   "outputs": [
    {
     "data": {
      "text/html": [
       "<div>\n",
       "<style scoped>\n",
       "    .dataframe tbody tr th:only-of-type {\n",
       "        vertical-align: middle;\n",
       "    }\n",
       "\n",
       "    .dataframe tbody tr th {\n",
       "        vertical-align: top;\n",
       "    }\n",
       "\n",
       "    .dataframe thead th {\n",
       "        text-align: right;\n",
       "    }\n",
       "</style>\n",
       "<table border=\"1\" class=\"dataframe\">\n",
       "  <thead>\n",
       "    <tr style=\"text-align: right;\">\n",
       "      <th></th>\n",
       "      <th>transmission</th>\n",
       "      <th>no_of_cars</th>\n",
       "      <th>% of cars</th>\n",
       "    </tr>\n",
       "  </thead>\n",
       "  <tbody>\n",
       "    <tr>\n",
       "      <th>0</th>\n",
       "      <td>Manual</td>\n",
       "      <td>3826</td>\n",
       "      <td>56.78</td>\n",
       "    </tr>\n",
       "    <tr>\n",
       "      <th>1</th>\n",
       "      <td>Automatic</td>\n",
       "      <td>2657</td>\n",
       "      <td>39.43</td>\n",
       "    </tr>\n",
       "    <tr>\n",
       "      <th>2</th>\n",
       "      <td>Semi-Auto</td>\n",
       "      <td>254</td>\n",
       "      <td>3.77</td>\n",
       "    </tr>\n",
       "    <tr>\n",
       "      <th>3</th>\n",
       "      <td>Other</td>\n",
       "      <td>1</td>\n",
       "      <td>0.01</td>\n",
       "    </tr>\n",
       "  </tbody>\n",
       "</table>\n",
       "</div>"
      ],
      "text/plain": [
       "  transmission  no_of_cars  % of cars\n",
       "0       Manual        3826      56.78\n",
       "1    Automatic        2657      39.43\n",
       "2    Semi-Auto         254       3.77\n",
       "3        Other           1       0.01"
      ]
     },
     "metadata": {},
     "output_type": "display_data"
    }
   ],
   "source": [
    "df_transmission = pd.DataFrame(df[\"transmission\"].value_counts())\n",
    "df_transmission = df_transmission.reset_index()\n",
    "df_transmission = df_transmission.rename(columns={\"index\":\"transmission\",\"transmission\":\"no_of_cars\"})\n",
    "\n",
    "##df_fuelType[\"% of cars\"] = (df_transmission[\"no_of_cars\"]/df.shape[0])\n",
    "df_transmission[\"% of cars\"] = (df_transmission[\"no_of_cars\"]/df.shape[0])*100\n",
    "\n",
    "df_transmission = df_transmission.round(2)\n",
    "\n",
    "display(df_transmission)"
   ]
  },
  {
   "cell_type": "markdown",
   "id": "2da74e83",
   "metadata": {},
   "source": [
    "### Bar Plot (Transmission)"
   ]
  },
  {
   "cell_type": "code",
   "execution_count": 62,
   "id": "4cef5a07",
   "metadata": {},
   "outputs": [
    {
     "data": {
      "image/png": "[encoded data removed]",
      "text/plain": [
       "<Figure size 432x288 with 1 Axes>"
      ]
     },
     "metadata": {
      "needs_background": "light"
     },
     "output_type": "display_data"
    }
   ],
   "source": [
    "barplot_transmission = sns.barplot(x=\"transmission\", y=\"% of cars\", data=df_transmission, color=\"blue\", alpha=0.5)\n",
    "\n",
    "for p in barplot_transmission.patches:\n",
    "    barplot_transmission.annotate(format(p.get_height(), '.1f'), \n",
    "                   (p.get_x() + p.get_width() / 2., p.get_height()), \n",
    "                   ha = 'center', va = 'center', \n",
    "                   xytext = (0, 9), \n",
    "                   textcoords = 'offset points')\n",
    "\n",
    "plt.xlabel(\"Types of Transmission\", size=12)\n",
    "plt.ylabel(\"% of Cars\", size=12)\n",
    "plt.title(\"Percentages of Cars Present for Each Transmission Type\")\n",
    "plt.yticks(np.arange(0,101,10))\n",
    "\n",
    "plt.show()"
   ]
  },
  {
   "cell_type": "markdown",
   "id": "534d8fcf",
   "metadata": {},
   "source": [
    "#### Comment:\n",
    "    \n",
    "In this notebook, two pie charts and bar plots were visualized using the dataset of used Toyota cars. The categorical\n",
    "variables used were 'Transmission' and 'fuelType.' In both cases, barplot turned out to be a better tool for representing\n",
    "the aforementioned categorical variable when compared to the pie charts for the following reasons:\n",
    "    \n",
    "Firstly, in most cases, a pie chart is only effective when there are two, at most three variables to be represented.\n",
    "As it can be seen from above, for both 'Transmission' and 'fuelType' columns, there were four separate variables,\n",
    "making the use of the pie-chart somewhat ineffective. Having said that, it can be adjudged that the pie chart for the\n",
    "'fuelType' column is superior to its 'transmission' column counterpart. This is because the latter had a type (other)\n",
    "that had a value corresponding to 0.01% which consequently was too small for the pie chart to depict.\n",
    "\n",
    "On the other hand, bar plots for both categorical variables were far more legible and comprehensive. However, even \n",
    "here, the 'other' type in the bar plot for 'transmission' was too miniscule to be visible. \n"
   ]
  },
  {
   "cell_type": "markdown",
   "id": "b9eac3cd",
   "metadata": {},
   "source": [
    "### End of Homework 2"
   ]
  }
 ],
 "metadata": {
  "kernelspec": {
   "display_name": "Python 3 (ipykernel)",
   "language": "python",
   "name": "python3"
  },
  "language_info": {
   "codemirror_mode": {
    "name": "ipython",
    "version": 3
   },
   "file_extension": ".py",
   "mimetype": "text/x-python",
   "name": "python",
   "nbconvert_exporter": "python",
   "pygments_lexer": "ipython3",
   "version": "3.9.2"
  }
 },
 "nbformat": 4,
 "nbformat_minor": 5
}
