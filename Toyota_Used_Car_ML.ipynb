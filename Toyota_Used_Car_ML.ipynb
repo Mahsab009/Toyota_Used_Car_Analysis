{
 "cells": [
  {
   "cell_type": "markdown",
   "id": "ba938ef3",
   "metadata": {},
   "source": [
    "## Toyota Used Car Machine Learning Price Prediction\n",
    "\n",
    "In this notebook, we will be developing a machine learning model from scratch based on the used car data for a particular brand, namely Toyota, present in this dataset. The objective of the model will be to predict the price for a used car based on available features.\n",
    "    \n",
    "Steps for implementing a Machine Learning Model:\n",
    "\n",
    "1. Import required libraries and packages\n",
    "        Read Dataset\n",
    "        Examine Feature and Target Variables\n",
    "2. Splitting Dataset\n",
    "        Splitting Feature and Target variable\n",
    "        Splitting Train and Test set\n",
    "3. Training Model\n",
    "        Perform Linear Regression\n",
    "4. Prediction\n",
    "        Prediction of Error\n",
    "        \n",
    "We will be using the following libraries:\n",
    "\n",
    "    pandas for data handling\n",
    "    numpy for numerical operations\n",
    "    Specific modules from sklearn for model related operations as required\n",
    "    matplotlib.pyplot and seaborn for data visualization"
   ]
  },
  {
   "cell_type": "markdown",
   "id": "22ad8179",
   "metadata": {},
   "source": [
    "### Import required libraries and packages"
   ]
  },
  {
   "cell_type": "code",
   "execution_count": 42,
   "id": "adc43f87",
   "metadata": {},
   "outputs": [],
   "source": [
    "# Import Libraries for Data handling\n",
    "import pandas as pd\n",
    "\n",
    "# Import Libraries for Numerical Operations\n",
    "import numpy as np\n",
    "\n",
    "# Data Visualization libraries\n",
    "import matplotlib.pyplot as plt\n",
    "import seaborn as sns\n",
    "\n",
    "# Machine Learning libraries\n",
    "from sklearn.linear_model import LinearRegression\n",
    "from sklearn.model_selection import train_test_split\n",
    "from sklearn.metrics import r2_score, mean_absolute_error, mean_squared_error, mean_absolute_percentage_error"
   ]
  },
  {
   "cell_type": "markdown",
   "id": "db429908",
   "metadata": {},
   "source": [
    "### Read the CSV file using Pandas dataframe"
   ]
  },
  {
   "cell_type": "code",
   "execution_count": 43,
   "id": "1a8edc25",
   "metadata": {
    "scrolled": true
   },
   "outputs": [
    {
     "name": "stdout",
     "output_type": "stream",
     "text": [
      "<class 'pandas.core.frame.DataFrame'>\n"
     ]
    },
    {
     "data": {
      "text/html": [
       "<div>\n",
       "<style scoped>\n",
       "    .dataframe tbody tr th:only-of-type {\n",
       "        vertical-align: middle;\n",
       "    }\n",
       "\n",
       "    .dataframe tbody tr th {\n",
       "        vertical-align: top;\n",
       "    }\n",
       "\n",
       "    .dataframe thead th {\n",
       "        text-align: right;\n",
       "    }\n",
       "</style>\n",
       "<table border=\"1\" class=\"dataframe\">\n",
       "  <thead>\n",
       "    <tr style=\"text-align: right;\">\n",
       "      <th></th>\n",
       "      <th>model</th>\n",
       "      <th>year</th>\n",
       "      <th>price</th>\n",
       "      <th>transmission</th>\n",
       "      <th>mileage</th>\n",
       "      <th>fuelType</th>\n",
       "      <th>mpg</th>\n",
       "      <th>engineSize</th>\n",
       "    </tr>\n",
       "  </thead>\n",
       "  <tbody>\n",
       "    <tr>\n",
       "      <th>0</th>\n",
       "      <td>GT86</td>\n",
       "      <td>2016</td>\n",
       "      <td>16000</td>\n",
       "      <td>Manual</td>\n",
       "      <td>24089</td>\n",
       "      <td>Petrol</td>\n",
       "      <td>36.2</td>\n",
       "      <td>2.0</td>\n",
       "    </tr>\n",
       "    <tr>\n",
       "      <th>1</th>\n",
       "      <td>GT86</td>\n",
       "      <td>2017</td>\n",
       "      <td>15995</td>\n",
       "      <td>Manual</td>\n",
       "      <td>18615</td>\n",
       "      <td>Petrol</td>\n",
       "      <td>36.2</td>\n",
       "      <td>2.0</td>\n",
       "    </tr>\n",
       "    <tr>\n",
       "      <th>2</th>\n",
       "      <td>GT86</td>\n",
       "      <td>2015</td>\n",
       "      <td>13998</td>\n",
       "      <td>Manual</td>\n",
       "      <td>27469</td>\n",
       "      <td>Petrol</td>\n",
       "      <td>36.2</td>\n",
       "      <td>2.0</td>\n",
       "    </tr>\n",
       "    <tr>\n",
       "      <th>3</th>\n",
       "      <td>GT86</td>\n",
       "      <td>2017</td>\n",
       "      <td>18998</td>\n",
       "      <td>Manual</td>\n",
       "      <td>14736</td>\n",
       "      <td>Petrol</td>\n",
       "      <td>36.2</td>\n",
       "      <td>2.0</td>\n",
       "    </tr>\n",
       "    <tr>\n",
       "      <th>4</th>\n",
       "      <td>GT86</td>\n",
       "      <td>2017</td>\n",
       "      <td>17498</td>\n",
       "      <td>Manual</td>\n",
       "      <td>36284</td>\n",
       "      <td>Petrol</td>\n",
       "      <td>36.2</td>\n",
       "      <td>2.0</td>\n",
       "    </tr>\n",
       "  </tbody>\n",
       "</table>\n",
       "</div>"
      ],
      "text/plain": [
       "   model  year  price transmission  mileage fuelType   mpg  engineSize\n",
       "0   GT86  2016  16000       Manual    24089   Petrol  36.2         2.0\n",
       "1   GT86  2017  15995       Manual    18615   Petrol  36.2         2.0\n",
       "2   GT86  2015  13998       Manual    27469   Petrol  36.2         2.0\n",
       "3   GT86  2017  18998       Manual    14736   Petrol  36.2         2.0\n",
       "4   GT86  2017  17498       Manual    36284   Petrol  36.2         2.0"
      ]
     },
     "metadata": {},
     "output_type": "display_data"
    },
    {
     "data": {
      "text/html": [
       "<div>\n",
       "<style scoped>\n",
       "    .dataframe tbody tr th:only-of-type {\n",
       "        vertical-align: middle;\n",
       "    }\n",
       "\n",
       "    .dataframe tbody tr th {\n",
       "        vertical-align: top;\n",
       "    }\n",
       "\n",
       "    .dataframe thead th {\n",
       "        text-align: right;\n",
       "    }\n",
       "</style>\n",
       "<table border=\"1\" class=\"dataframe\">\n",
       "  <thead>\n",
       "    <tr style=\"text-align: right;\">\n",
       "      <th></th>\n",
       "      <th>model</th>\n",
       "      <th>year</th>\n",
       "      <th>price</th>\n",
       "      <th>transmission</th>\n",
       "      <th>mileage</th>\n",
       "      <th>fuelType</th>\n",
       "      <th>mpg</th>\n",
       "      <th>engineSize</th>\n",
       "    </tr>\n",
       "  </thead>\n",
       "  <tbody>\n",
       "    <tr>\n",
       "      <th>6733</th>\n",
       "      <td>IQ</td>\n",
       "      <td>2011</td>\n",
       "      <td>5500</td>\n",
       "      <td>Automatic</td>\n",
       "      <td>30000</td>\n",
       "      <td>Petrol</td>\n",
       "      <td>58.9</td>\n",
       "      <td>1.0</td>\n",
       "    </tr>\n",
       "    <tr>\n",
       "      <th>6734</th>\n",
       "      <td>Urban Cruiser</td>\n",
       "      <td>2011</td>\n",
       "      <td>4985</td>\n",
       "      <td>Manual</td>\n",
       "      <td>36154</td>\n",
       "      <td>Petrol</td>\n",
       "      <td>50.4</td>\n",
       "      <td>1.3</td>\n",
       "    </tr>\n",
       "    <tr>\n",
       "      <th>6735</th>\n",
       "      <td>Urban Cruiser</td>\n",
       "      <td>2012</td>\n",
       "      <td>4995</td>\n",
       "      <td>Manual</td>\n",
       "      <td>46000</td>\n",
       "      <td>Diesel</td>\n",
       "      <td>57.6</td>\n",
       "      <td>1.4</td>\n",
       "    </tr>\n",
       "    <tr>\n",
       "      <th>6736</th>\n",
       "      <td>Urban Cruiser</td>\n",
       "      <td>2011</td>\n",
       "      <td>3995</td>\n",
       "      <td>Manual</td>\n",
       "      <td>60700</td>\n",
       "      <td>Petrol</td>\n",
       "      <td>50.4</td>\n",
       "      <td>1.3</td>\n",
       "    </tr>\n",
       "    <tr>\n",
       "      <th>6737</th>\n",
       "      <td>Urban Cruiser</td>\n",
       "      <td>2011</td>\n",
       "      <td>4495</td>\n",
       "      <td>Manual</td>\n",
       "      <td>45128</td>\n",
       "      <td>Petrol</td>\n",
       "      <td>50.4</td>\n",
       "      <td>1.3</td>\n",
       "    </tr>\n",
       "  </tbody>\n",
       "</table>\n",
       "</div>"
      ],
      "text/plain": [
       "               model  year  price transmission  mileage fuelType   mpg  \\\n",
       "6733              IQ  2011   5500    Automatic    30000   Petrol  58.9   \n",
       "6734   Urban Cruiser  2011   4985       Manual    36154   Petrol  50.4   \n",
       "6735   Urban Cruiser  2012   4995       Manual    46000   Diesel  57.6   \n",
       "6736   Urban Cruiser  2011   3995       Manual    60700   Petrol  50.4   \n",
       "6737   Urban Cruiser  2011   4495       Manual    45128   Petrol  50.4   \n",
       "\n",
       "      engineSize  \n",
       "6733         1.0  \n",
       "6734         1.3  \n",
       "6735         1.4  \n",
       "6736         1.3  \n",
       "6737         1.3  "
      ]
     },
     "metadata": {},
     "output_type": "display_data"
    }
   ],
   "source": [
    "df = pd.read_csv('toyota.csv')\n",
    "\n",
    "print (type(df))\n",
    "display(df.head())\n",
    "display(df.tail())"
   ]
  },
  {
   "cell_type": "markdown",
   "id": "78202cc0",
   "metadata": {},
   "source": [
    "#### Feature variables:\n",
    "\n",
    "model: categories of the ford car\n",
    "\n",
    "year: the year car was made\n",
    "\n",
    "transmission: the type of trasmission the car has\n",
    "\n",
    "mileage: the number of miles the vehicle has driven\n",
    "\n",
    "fuelType: energy source of the vehicle\n",
    "\n",
    "mpg: miles per gallon the vehicle can travel\n",
    "\n",
    "engineSize: Engine size is the volume of fuel and air that can be pushed through a car's cylinders\n",
    "\n",
    "#### Target Variable:\n",
    "\n",
    "price: selling price of the car"
   ]
  },
  {
   "cell_type": "markdown",
   "id": "2404e291",
   "metadata": {},
   "source": [
    "### Check for data types and any missing values"
   ]
  },
  {
   "cell_type": "code",
   "execution_count": 44,
   "id": "cd91bbed",
   "metadata": {
    "scrolled": false
   },
   "outputs": [
    {
     "name": "stdout",
     "output_type": "stream",
     "text": [
      "<class 'pandas.core.frame.DataFrame'>\n",
      "RangeIndex: 6738 entries, 0 to 6737\n",
      "Data columns (total 8 columns):\n",
      " #   Column        Non-Null Count  Dtype  \n",
      "---  ------        --------------  -----  \n",
      " 0   model         6738 non-null   object \n",
      " 1   year          6738 non-null   int64  \n",
      " 2   price         6738 non-null   int64  \n",
      " 3   transmission  6738 non-null   object \n",
      " 4   mileage       6738 non-null   int64  \n",
      " 5   fuelType      6738 non-null   object \n",
      " 6   mpg           6738 non-null   float64\n",
      " 7   engineSize    6738 non-null   float64\n",
      "dtypes: float64(2), int64(3), object(3)\n",
      "memory usage: 421.2+ KB\n"
     ]
    }
   ],
   "source": [
    "df.info()"
   ]
  },
  {
   "cell_type": "code",
   "execution_count": 45,
   "id": "5596756c",
   "metadata": {},
   "outputs": [
    {
     "name": "stdout",
     "output_type": "stream",
     "text": [
      "(6738, 8)\n",
      "number of rows =  6738\n",
      "number of columns =  8\n"
     ]
    }
   ],
   "source": [
    "print(df.shape)\n",
    "\n",
    "print(\"number of rows = \", df.shape[0])\n",
    "print(\"number of columns = \", df.shape[1])"
   ]
  },
  {
   "cell_type": "markdown",
   "id": "2172c8da",
   "metadata": {},
   "source": [
    "## Splitting Dataset"
   ]
  },
  {
   "cell_type": "markdown",
   "id": "d05b5a73",
   "metadata": {},
   "source": [
    "### Separating the features and target variable"
   ]
  },
  {
   "cell_type": "code",
   "execution_count": 46,
   "id": "55596f99",
   "metadata": {},
   "outputs": [
    {
     "name": "stdout",
     "output_type": "stream",
     "text": [
      "Shape of X:  (6738, 4)\n",
      "Shape of y:  (6738, 1)\n"
     ]
    }
   ],
   "source": [
    "# Create feature and target lists\n",
    "features = ['mileage', 'year', 'mpg', 'engineSize']\n",
    "target = ['price']\n",
    "\n",
    "# Create feature and target dataframes\n",
    "\n",
    "X = df[features]\n",
    "y = df[target]\n",
    "\n",
    "# display the dataframe shapes\n",
    "print(\"Shape of X: \", X.shape)\n",
    "print(\"Shape of y: \", y.shape)"
   ]
  },
  {
   "cell_type": "markdown",
   "id": "2dfe2788",
   "metadata": {},
   "source": [
    "### Split the Data into Train Set and Test Set"
   ]
  },
  {
   "cell_type": "code",
   "execution_count": 47,
   "id": "fdf076f7",
   "metadata": {},
   "outputs": [
    {
     "name": "stdout",
     "output_type": "stream",
     "text": [
      "X_train shape:  (5390, 4)\n",
      "y_train shape:  (5390, 1)\n",
      "X_test shape:  (1348, 4)\n",
      "y_test shape:  (1348, 1)\n"
     ]
    }
   ],
   "source": [
    "# Split the Dataset\n",
    "X_train, X_test, y_train, y_test = train_test_split(X, y, test_size = 0.2, random_state = 9)\n",
    "\n",
    "# Display Split Data shapes\n",
    "print(\"X_train shape: \", X_train.shape)\n",
    "print(\"y_train shape: \", y_train.shape)\n",
    "print(\"X_test shape: \", X_test.shape)\n",
    "print(\"y_test shape: \", y_test.shape)"
   ]
  },
  {
   "cell_type": "markdown",
   "id": "63e6038b",
   "metadata": {},
   "source": [
    "# Training Model"
   ]
  },
  {
   "cell_type": "markdown",
   "id": "6d08e9c3",
   "metadata": {},
   "source": [
    "### Perform Linear Regression"
   ]
  },
  {
   "cell_type": "code",
   "execution_count": 48,
   "id": "585237c7",
   "metadata": {},
   "outputs": [],
   "source": [
    "# Create a model instance\n",
    "model = LinearRegression()\n",
    "\n",
    "# Fit data to model\n",
    "model = model.fit(X_train, y_train)"
   ]
  },
  {
   "cell_type": "markdown",
   "id": "5aa50431",
   "metadata": {},
   "source": [
    "### Linear Regression Coefficients and Intercept"
   ]
  },
  {
   "cell_type": "code",
   "execution_count": 49,
   "id": "ab730b16",
   "metadata": {},
   "outputs": [
    {
     "data": {
      "text/html": [
       "<div>\n",
       "<style scoped>\n",
       "    .dataframe tbody tr th:only-of-type {\n",
       "        vertical-align: middle;\n",
       "    }\n",
       "\n",
       "    .dataframe tbody tr th {\n",
       "        vertical-align: top;\n",
       "    }\n",
       "\n",
       "    .dataframe thead th {\n",
       "        text-align: right;\n",
       "    }\n",
       "</style>\n",
       "<table border=\"1\" class=\"dataframe\">\n",
       "  <thead>\n",
       "    <tr style=\"text-align: right;\">\n",
       "      <th></th>\n",
       "      <th>features</th>\n",
       "      <th>coefficients</th>\n",
       "    </tr>\n",
       "  </thead>\n",
       "  <tbody>\n",
       "    <tr>\n",
       "      <th>0</th>\n",
       "      <td>mileage</td>\n",
       "      <td>-0.077740</td>\n",
       "    </tr>\n",
       "    <tr>\n",
       "      <th>2</th>\n",
       "      <td>mpg</td>\n",
       "      <td>25.249202</td>\n",
       "    </tr>\n",
       "    <tr>\n",
       "      <th>1</th>\n",
       "      <td>year</td>\n",
       "      <td>814.592829</td>\n",
       "    </tr>\n",
       "    <tr>\n",
       "      <th>3</th>\n",
       "      <td>engineSize</td>\n",
       "      <td>11410.163334</td>\n",
       "    </tr>\n",
       "  </tbody>\n",
       "</table>\n",
       "</div>"
      ],
      "text/plain": [
       "     features  coefficients\n",
       "0     mileage     -0.077740\n",
       "2         mpg     25.249202\n",
       "1        year    814.592829\n",
       "3  engineSize  11410.163334"
      ]
     },
     "metadata": {},
     "output_type": "display_data"
    }
   ],
   "source": [
    "coefficients = pd.DataFrame({'features':X.columns, 'coefficients':np.squeeze(model.coef_)})\n",
    "coefficients = coefficients.sort_values(by='coefficients')\n",
    "display(coefficients)"
   ]
  },
  {
   "cell_type": "markdown",
   "id": "ed7e9300",
   "metadata": {},
   "source": [
    "positive sign on the entry indicates that as the feature variable increases, the target variable also increases.\n",
    "\n",
    "negative sign on the entry indicates indicates that as the feature variable increases, the target variable decreases"
   ]
  },
  {
   "cell_type": "code",
   "execution_count": 50,
   "id": "de53034f",
   "metadata": {},
   "outputs": [
    {
     "name": "stdout",
     "output_type": "stream",
     "text": [
      "[-1646929.7530487]\n"
     ]
    }
   ],
   "source": [
    "c = model.intercept_\n",
    "print (c)"
   ]
  },
  {
   "cell_type": "markdown",
   "id": "39166feb",
   "metadata": {},
   "source": [
    "# Prediction"
   ]
  },
  {
   "cell_type": "code",
   "execution_count": 51,
   "id": "5d9b9843",
   "metadata": {},
   "outputs": [
    {
     "data": {
      "text/plain": [
       "array([[13396.17921659],\n",
       "       [ 8482.86548298],\n",
       "       [10401.38376765],\n",
       "       ...,\n",
       "       [17890.73620753],\n",
       "       [14476.04780522],\n",
       "       [15804.72835936]])"
      ]
     },
     "metadata": {},
     "output_type": "display_data"
    }
   ],
   "source": [
    "# Predict from the test set features\n",
    "y_pred = model.predict(X_test)\n",
    "\n",
    "display(y_pred) "
   ]
  },
  {
   "cell_type": "code",
   "execution_count": 52,
   "id": "bec1de70",
   "metadata": {},
   "outputs": [
    {
     "data": {
      "text/html": [
       "<div>\n",
       "<style scoped>\n",
       "    .dataframe tbody tr th:only-of-type {\n",
       "        vertical-align: middle;\n",
       "    }\n",
       "\n",
       "    .dataframe tbody tr th {\n",
       "        vertical-align: top;\n",
       "    }\n",
       "\n",
       "    .dataframe thead th {\n",
       "        text-align: right;\n",
       "    }\n",
       "</style>\n",
       "<table border=\"1\" class=\"dataframe\">\n",
       "  <thead>\n",
       "    <tr style=\"text-align: right;\">\n",
       "      <th></th>\n",
       "      <th>original_price</th>\n",
       "      <th>predicted_price</th>\n",
       "      <th>observation</th>\n",
       "    </tr>\n",
       "  </thead>\n",
       "  <tbody>\n",
       "    <tr>\n",
       "      <th>1725</th>\n",
       "      <td>10992</td>\n",
       "      <td>13396.179217</td>\n",
       "      <td>0</td>\n",
       "    </tr>\n",
       "    <tr>\n",
       "      <th>3877</th>\n",
       "      <td>7750</td>\n",
       "      <td>8482.865483</td>\n",
       "      <td>1</td>\n",
       "    </tr>\n",
       "    <tr>\n",
       "      <th>2879</th>\n",
       "      <td>10500</td>\n",
       "      <td>10401.383768</td>\n",
       "      <td>2</td>\n",
       "    </tr>\n",
       "    <tr>\n",
       "      <th>5699</th>\n",
       "      <td>13450</td>\n",
       "      <td>9936.530483</td>\n",
       "      <td>3</td>\n",
       "    </tr>\n",
       "    <tr>\n",
       "      <th>6542</th>\n",
       "      <td>5999</td>\n",
       "      <td>5305.315304</td>\n",
       "      <td>4</td>\n",
       "    </tr>\n",
       "  </tbody>\n",
       "</table>\n",
       "</div>"
      ],
      "text/plain": [
       "      original_price  predicted_price  observation\n",
       "1725           10992     13396.179217            0\n",
       "3877            7750      8482.865483            1\n",
       "2879           10500     10401.383768            2\n",
       "5699           13450      9936.530483            3\n",
       "6542            5999      5305.315304            4"
      ]
     },
     "metadata": {},
     "output_type": "display_data"
    }
   ],
   "source": [
    "df_predict = pd.DataFrame()\n",
    "\n",
    "df_predict['original_price'] = y_test['price']\n",
    "df_predict['predicted_price'] = y_pred\n",
    "df_predict['observation'] = np.arange(0, y_test.shape[0] , 1)\n",
    "\n",
    "display(df_predict.head())"
   ]
  },
  {
   "cell_type": "markdown",
   "id": "af82f2f2",
   "metadata": {},
   "source": [
    "# Prediction Error"
   ]
  },
  {
   "cell_type": "code",
   "execution_count": 53,
   "id": "689280bd",
   "metadata": {
    "scrolled": true
   },
   "outputs": [
    {
     "name": "stdout",
     "output_type": "stream",
     "text": [
      "root mean squared error =  3211.5757800903634\n",
      "mean absolute percentage error =  2197.6195841654558\n",
      "mean absolute percentage error =  0.1900716097138662\n",
      "mean squared error =  10314218.991263026\n",
      "coefficient of determination =  0.7598820768101426\n"
     ]
    }
   ],
   "source": [
    "#Prediction error\n",
    "# root mean squared error\n",
    "RMSE = mean_squared_error(y_test, y_pred, squared=False)\n",
    "print(\"root mean squared error = \", RMSE)\n",
    "\n",
    "# mean absolute error\n",
    "MAE = mean_absolute_error(y_test, y_pred)\n",
    "print(\"mean absolute percentage error = \", MAE)\n",
    "\n",
    "# mean absolute percentage error\n",
    "MAPE = mean_absolute_percentage_error(y_test, y_pred)\n",
    "print(\"mean absolute percentage error = \", MAPE)\n",
    "\n",
    "# mean squared error\n",
    "MSE = mean_squared_error(y_test, y_pred)\n",
    "print(\"mean squared error = \", MSE)\n",
    "\n",
    "# coefficient of determination\n",
    "r_squared = r2_score(y_test, y_pred) \n",
    "print(\"coefficient of determination = \", r_squared)"
   ]
  },
  {
   "cell_type": "markdown",
   "id": "86acd8ee",
   "metadata": {},
   "source": [
    "#### Comment:\n",
    "\n",
    "From the aforementioned results, it can be inferred that the ML model at this point\n",
    "isn't very efficient at predicting the price. This is evident from its coefficient of determination\n",
    " value of ~ 0.7598. Other Key Performance Indicator(s) (KPI) paint a similar picture. Incorporating\n",
    " the categorical variables could be a possible solution for improving the result."
   ]
  },
  {
   "cell_type": "markdown",
   "id": "a89fb42c",
   "metadata": {},
   "source": [
    "### End of Homework 1 (Module 4)"
   ]
  }
 ],
 "metadata": {
  "kernelspec": {
   "display_name": "Python 3 (ipykernel)",
   "language": "python",
   "name": "python3"
  },
  "language_info": {
   "codemirror_mode": {
    "name": "ipython",
    "version": 3
   },
   "file_extension": ".py",
   "mimetype": "text/x-python",
   "name": "python",
   "nbconvert_exporter": "python",
   "pygments_lexer": "ipython3",
   "version": "3.9.2"
  }
 },
 "nbformat": 4,
 "nbformat_minor": 5
}
